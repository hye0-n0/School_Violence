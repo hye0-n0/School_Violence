{
 "cells": [
  {
   "cell_type": "code",
   "execution_count": 1,
   "id": "4a90e49f",
   "metadata": {},
   "outputs": [],
   "source": [
    "# 일단 import \n",
    "%matplotlib inline  \n",
    "\n",
    "import matplotlib as mpl  # 기본 설정 만지는 용도\n",
    "import matplotlib.pyplot as plt  # 그래프 그리는 용도\n",
    "import matplotlib.font_manager as fm  # 폰트 관련 용도\n",
    "import os\n",
    "import random\n",
    "import copy\n",
    "import numpy as np\n",
    "import pandas as pd\n",
    "import matplotlib.pyplot as plt\n",
    "import seaborn as sns\n",
    "import warnings\n",
    "warnings.filterwarnings(action='ignore')\n",
    "#plt.rc('font', family='NanumBarunGothic') \n",
    "\n",
    "from sklearn.preprocessing import StandardScaler\n",
    "from sklearn import metrics"
   ]
  },
  {
   "cell_type": "code",
   "execution_count": 2,
   "id": "b2e5b5b7",
   "metadata": {},
   "outputs": [
    {
     "data": {
      "text/plain": [
       "'/Users/hye0n0/UOS/경제분석캡스톤디자인'"
      ]
     },
     "execution_count": 2,
     "metadata": {},
     "output_type": "execute_result"
    }
   ],
   "source": [
    "os.getcwd()"
   ]
  },
  {
   "cell_type": "code",
   "execution_count": 3,
   "id": "1be079bf",
   "metadata": {},
   "outputs": [],
   "source": [
    "student2019 = pd.read_csv('./project/KCYPS 2018 중1 코호트 제1~4차 조사 데이터/KCYPS2018m1Yw2.csv', encoding='cp949')\n",
    "student2020 = pd.read_csv('./project/KCYPS 2018 중1 코호트 제1~4차 조사 데이터/KCYPS2018m1Yw3.csv', encoding='cp949')\n",
    "student2021 = pd.read_csv('./project/KCYPS 2018 중1 코호트 제1~4차 조사 데이터/KCYPS2018m1Yw4.csv')"
   ]
  },
  {
   "cell_type": "code",
   "execution_count": 66,
   "id": "7d8a7b4d",
   "metadata": {},
   "outputs": [
    {
     "data": {
      "text/plain": [
       "Index(['HID', 'PID', 'SCLIDw2', 'WEIGHTA1w2', 'WEIGHTA2w2', 'WEIGHTB1w2',\n",
       "       'WEIGHTB2w2', 'SURVEY1w2', 'SURVEY2w2', 'COHORTw2', 'ARA1Aw2',\n",
       "       'ARA2Aw2', 'ARA1Bw2', 'YTWINw2', 'YBRT1Aw2', 'YBRT1Bw2', 'YGENDERw2',\n",
       "       'YTIM1A01w2', 'YTIM1A02w2', 'YTIM1B01w2', 'YTIM1B02w2', 'YTIM1C01w2',\n",
       "       'YTIM1A03w2', 'YTIM1A04w2', 'YTIM1B03w2', 'YTIM1B04w2', 'YTIM1C02w2',\n",
       "       'YTIM1D01w2', 'YTIM1D02w2', 'YTIM1E01w2', 'YTIM1E02w2', 'YTIM1F01w2',\n",
       "       'YTIM1F02w2', 'YTIM1G01w2', 'YTIM1G02w2', 'YTIM1H01w2', 'YTIM1H02w2',\n",
       "       'YTIM1I01w2', 'YTIM1I02w2', 'YTIM1J01w2', 'YTIM1J02w2', 'YTIM1K01w2',\n",
       "       'YTIM1K02w2', 'YTIM1L01w2', 'YTIM1L02w2', 'YTIM1M01w2', 'YTIM1M02w2',\n",
       "       'YTIM1N01w2', 'YTIM1N02w2', 'YINT1A00w2', 'YINT1B00w2', 'YINT2A01w2',\n",
       "       'YINT2A02w2', 'YINT2A03w2', 'YINT2A04w2', 'YINT2A05w2', 'YINT2A06w2',\n",
       "       'YINT2A07w2', 'YINT2A08w2', 'YINT2A09w2', 'YINT2A10w2', 'YINT2A11w2',\n",
       "       'YINT2A12w2', 'YINT2A13w2', 'YINT2A14w2', 'YINT2A15w2', 'YINT2A16w2',\n",
       "       'YINT2B01w2', 'YINT2B02w2', 'YINT2B03w2', 'YINT2B04w2', 'YINT2B05w2',\n",
       "       'YINT2B06w2', 'YINT2B07w2', 'YINT2B08w2', 'YINT2B09w2', 'YINT2B10w2',\n",
       "       'YINT2B11w2', 'YINT2B12w2', 'YINT2B13w2', 'YINT2B14w2', 'YINT2B15w2',\n",
       "       'YINT2B16w2', 'YFUR1A00w2', 'YFUR1B00w2', 'YFUR2A01w2', 'YFUR2A02w2',\n",
       "       'YFUR2A03w2', 'YFUR2A04w2', 'YFUR2A05w2', 'YFUR2A06w2', 'YFUR2A07w2',\n",
       "       'YFUR2A08w2', 'YFUR2A08_Tw2', 'YPSY1A01w2', 'YPSY1A02w2', 'YPSY1A03w2',\n",
       "       'YPSY1A04w2', 'YPSY1A05w2', 'YPSY2A01w2'],\n",
       "      dtype='object')"
      ]
     },
     "execution_count": 66,
     "metadata": {},
     "output_type": "execute_result"
    }
   ],
   "source": [
    "student2019.columns[:100]"
   ]
  },
  {
   "cell_type": "code",
   "execution_count": 64,
   "id": "30c15bef",
   "metadata": {},
   "outputs": [
    {
     "name": "stdout",
     "output_type": "stream",
     "text": [
      "<class 'pandas.core.frame.DataFrame'>\n",
      "RangeIndex: 2590 entries, 0 to 2589\n",
      "Columns: 378 entries, HID to YFAM2F04w2\n",
      "dtypes: float64(371), int64(4), object(3)\n",
      "memory usage: 7.5+ MB\n"
     ]
    }
   ],
   "source": [
    "student2019.info()"
   ]
  },
  {
   "cell_type": "markdown",
   "id": "8a6c2a92",
   "metadata": {},
   "source": [
    "# 가해자 여부 컬럼"
   ]
  },
  {
   "cell_type": "code",
   "execution_count": 17,
   "id": "4358dc83",
   "metadata": {},
   "outputs": [],
   "source": [
    "tviolence1=['YDLQ1A05w2', 'YDLQ1A06w2', 'YDLQ1A07w2', 'YDLQ1A08w2','YDLQ1A09w2', 'YDLQ1A10w2', 'YDLQ1A13w2']\n",
    "cviolence1=['YDLQ2A03w2','YDLQ2A04w2', 'YDLQ2A05w2', 'YDLQ2A06w2', 'YDLQ2A07w2', 'YDLQ2A08w2', 'YDLQ2A09w2', 'YDLQ2A10w2', 'YDLQ2A12w2', 'YDLQ2A13w2','YDLQ2A14w2', 'YDLQ2A15w2']\n",
    "\n",
    "tviolence2=['YDLQ1A05w3', 'YDLQ1A06w3', 'YDLQ1A07w3', 'YDLQ1A08w3','YDLQ1A09w3', 'YDLQ1A10w3', 'YDLQ1A13w3']\n",
    "cviolence2=['YDLQ2A03w3','YDLQ2A04w3', 'YDLQ2A05w3', 'YDLQ2A06w3', 'YDLQ2A07w3', 'YDLQ2A08w3', 'YDLQ2A09w3', 'YDLQ2A10w3', 'YDLQ2A12w3', 'YDLQ2A13w3','YDLQ2A14w3', 'YDLQ2A15w3']\n",
    "\n",
    "tviolence3=['YDLQ1A05w4', 'YDLQ1A06w4', 'YDLQ1A07w4', 'YDLQ1A08w4','YDLQ1A09w4', 'YDLQ1A10w4', 'YDLQ1A13w4']\n",
    "cviolence3=['YDLQ2A03w4','YDLQ2A04w4', 'YDLQ2A05w4', 'YDLQ2A06w4', 'YDLQ2A07w4', 'YDLQ2A08w4', 'YDLQ2A09w4', 'YDLQ2A10w4', 'YDLQ2A12w4', 'YDLQ2A13w4','YDLQ2A14w4', 'YDLQ2A15w4']"
   ]
  },
  {
   "cell_type": "code",
   "execution_count": 18,
   "id": "f6427f7d",
   "metadata": {},
   "outputs": [],
   "source": [
    "for i in range(len(tviolence3)):\n",
    "    student2021[tviolence3[i]] = pd.to_numeric(student2021[tviolence3[i]], errors='coerce')\n",
    "\n",
    "for i in range(len(cviolence3)):\n",
    "    student2021[cviolence3[i]] = pd.to_numeric(student2021[cviolence3[i]], errors='coerce')"
   ]
  },
  {
   "cell_type": "code",
   "execution_count": 19,
   "id": "45a35895",
   "metadata": {},
   "outputs": [],
   "source": [
    "def violence(data, tvio, cvio):\n",
    "    df = data.copy()\n",
    "    df['tv']=data[tvio].apply(lambda x: 1 if [2 or 3 or 4 or 5 or 6] in x.unique() else 0, axis=1)\n",
    "    df['cv']=data[cvio].apply(lambda x: 1 if [2 or 3 or 4 or 5 or 6] in x.unique() else 0, axis=1)\n",
    "    df['vio']=0\n",
    "    df['vio'][(df['cv'] == 1) | (df['tv'] == 1)] = 1\n",
    "    return df"
   ]
  },
  {
   "cell_type": "code",
   "execution_count": 20,
   "id": "83747202",
   "metadata": {},
   "outputs": [],
   "source": [
    "v19=violence(student2019, tviolence1, cviolence1)\n",
    "v20=violence(student2020, tviolence2, cviolence2)\n",
    "v21=violence(student2021, tviolence3, cviolence3)"
   ]
  },
  {
   "cell_type": "code",
   "execution_count": 37,
   "id": "df16cd0a",
   "metadata": {},
   "outputs": [
    {
     "data": {
      "text/plain": [
       "<matplotlib.legend.Legend at 0x7ff50a6ffeb0>"
      ]
     },
     "execution_count": 37,
     "metadata": {},
     "output_type": "execute_result"
    },
    {
     "data": {
      "image/png": "[encoded data removed]",
      "text/plain": [
       "<Figure size 1500x400 with 3 Axes>"
      ]
     },
     "metadata": {},
     "output_type": "display_data"
    }
   ],
   "source": [
    "plt.figure(figsize=(15, 4))\n",
    "\n",
    "plt.subplot(1, 3, 1)\n",
    "plt.hist(v19[['tv', 'cv', 'vio']])\n",
    "plt.legend(v19[['tv', 'cv', 'vio']])\n",
    "\n",
    "plt.subplot(1, 3, 2)\n",
    "plt.hist(v20[['tv', 'cv', 'vio']])\n",
    "plt.legend(v20[['tv', 'cv', 'vio']])\n",
    "\n",
    "plt.subplot(1, 3, 3)\n",
    "plt.hist(v21[['tv', 'cv', 'vio']])\n",
    "plt.legend(v21[['tv', 'cv', 'vio']])"
   ]
  },
  {
   "cell_type": "code",
   "execution_count": 38,
   "id": "037f080c",
   "metadata": {},
   "outputs": [
    {
     "data": {
      "image/png": "[encoded data removed]",
      "text/plain": [
       "<Figure size 640x480 with 1 Axes>"
      ]
     },
     "metadata": {},
     "output_type": "display_data"
    },
    {
     "name": "stdout",
     "output_type": "stream",
     "text": [
      "violence rate: 11.235521235521235 \n",
      "----------------------------------\n",
      "violence: 291 \n",
      "----------------------------------\n"
     ]
    },
    {
     "data": {
      "image/png": "[encoded data removed]",
      "text/plain": [
       "<Figure size 640x480 with 1 Axes>"
      ]
     },
     "metadata": {},
     "output_type": "display_data"
    },
    {
     "name": "stdout",
     "output_type": "stream",
     "text": [
      "violence rate: 8.996138996138995 \n",
      "----------------------------------\n",
      "violence: 233 \n",
      "----------------------------------\n"
     ]
    },
    {
     "data": {
      "image/png": "[encoded data removed]",
      "text/plain": [
       "<Figure size 640x480 with 1 Axes>"
      ]
     },
     "metadata": {},
     "output_type": "display_data"
    },
    {
     "name": "stdout",
     "output_type": "stream",
     "text": [
      "violence rate: 5.019305019305019 \n",
      "----------------------------------\n",
      "violence: 130 \n",
      "----------------------------------\n"
     ]
    }
   ],
   "source": [
    "for i in [v19, v20, v21]:\n",
    "    j=1\n",
    "    patiovio=sum(i['vio'] == 1)/len(i) * 100\n",
    "    patiotv=sum(i['tv'] == 1)/len(i) * 100\n",
    "    patiosv=sum(i['cv'] == 1)/len(i) * 100\n",
    "    gen = 100 - patiosv - patiotv\n",
    "    \n",
    "    ratio = [patiotv, patiosv, gen]\n",
    "    labels = ['trand_violence', 'cyber_violence', 'No-violence']\n",
    "    plt.subplot(3, 1, j)\n",
    "    plt.pie(ratio, labels=labels, autopct='%.1f%%')\n",
    "    plt.show()\n",
    "    j += 1\n",
    "    print('violence rate: {}'.format(patiovio), '\\n----------------------------------')\n",
    "    print('violence: {}'.format(sum(i['vio'] == 1)), '\\n----------------------------------')"
   ]
  },
  {
   "cell_type": "code",
   "execution_count": 41,
   "id": "e5062af3",
   "metadata": {},
   "outputs": [
    {
     "name": "stdout",
     "output_type": "stream",
     "text": [
      "3년 모두 가해 경험 존재: 16\n",
      "한 번이라도 가해 경험 존재: 522\n",
      "19->20년 가해 경험 생김: 157\n",
      "20->21년 가해 경험 생김: 87\n",
      "19,20->21년 가해 경험 생김: 74\n",
      "19->20,21년 가해 경험 생김: 87\n"
     ]
    }
   ],
   "source": [
    "o1 = sum((v19['vio'] == 1) & (v20['vio'] == 1) & (v21['vio'] == 1))\n",
    "o2 = sum((v19['vio'] == 1) | (v20['vio'] == 1) | (v21['vio'] == 1))\n",
    "o3 = sum((v19['vio'] == 0) & (v20['vio'] == 1))\n",
    "o4 = sum((v20['vio'] == 0) & (v21['vio'] == 1))\n",
    "v021= sum((v19['vio'] == 0) & (v20['vio'] == 0) & (v21['vio'] == 1))\n",
    "v02021= sum((v19['vio'] == 0) & (v20['vio'] == 1) & (v21['vio'] == 1))\n",
    "v02021= sum((v19['vio'] == 0) & (v20['vio'] == 1) & (v21['vio'] == 0))\n",
    "\n",
    "print(f'3년 모두 가해 경험 존재: {threev}')\n",
    "print(f'한 번이라도 가해 경험 존재: {once}')\n",
    "print(f'19->20년 가해 경험 생김: {v1920}')\n",
    "print(f'20->21년 가해 경험 생김: {v2021}')\n",
    "print(f'19,20->21년 가해 경험 생김: {v021}')\n",
    "print(f'19->20,21년 가해 경험 생김: {v2021}')"
   ]
  },
  {
   "cell_type": "code",
   "execution_count": 32,
   "id": "1428dbd8",
   "metadata": {},
   "outputs": [],
   "source": [
    "smart=v19[['YMDA1C01w2', 'YMDA1C02w2','YMDA1C03w2', 'YMDA1C04w2', 'YMDA1C06w2', 'YMDA1C07w2','YMDA1C08w2', 'YMDA1C09w2',  'YMDA1C11w2', 'YMDA1C12w2','YMDA1C13w2', 'YMDA1C14w2'] ]\n",
    "inv_smart = v19[['YMDA1C05w2', 'YMDA1C10w2', 'YMDA1C15w2']].apply(lambda x: -(x-5), axis=1)"
   ]
  },
  {
   "cell_type": "code",
   "execution_count": 30,
   "id": "a4e0e141",
   "metadata": {},
   "outputs": [],
   "source": [
    "smartphone_df = pd.merge(smart, inv_smart, left_index=True, right_index=True)"
   ]
  },
  {
   "cell_type": "code",
   "execution_count": 45,
   "id": "293608e5",
   "metadata": {},
   "outputs": [],
   "source": [
    "smartphone = smartphone_df.apply(lambda x: round(np.mean(x), 3), axis=1)"
   ]
  },
  {
   "cell_type": "code",
   "execution_count": 46,
   "id": "04c1fb52",
   "metadata": {},
   "outputs": [],
   "source": [
    "studyp=['YINT2A01w2','YINT2A02w2', 'YINT2A03w2', 'YINT2A04w2', 'YINT2A05w2', 'YINT2A06w2',\n",
    "    'YINT2A07w2', 'YINT2A08w2', 'YINT2A09w2', 'YINT2A10w2', 'YINT2A11w2',\n",
    "    'YINT2A12w2', 'YINT2A13w2', 'YINT2A14w2', 'YINT2A15w2', 'YINT2A16w2','YINT2B01w2', 'YINT2B02w2', 'YINT2B03w2', 'YINT2B04w2', 'YINT2B05w2',\n",
    "    'YINT2B06w2', 'YINT2B07w2', 'YINT2B08w2', 'YINT2B09w2', 'YINT2B10w2',\n",
    "    'YINT2B11w2', 'YINT2B12w2', 'YINT2B13w2', 'YINT2B14w2', 'YINT2B15w2','YINT2B16w2']"
   ]
  },
  {
   "cell_type": "code",
   "execution_count": 67,
   "id": "9fac3c18",
   "metadata": {},
   "outputs": [],
   "source": [
    "studyd=['YINT2B05w2','YINT2B06w2', 'YINT2B07w2', 'YINT2B08w2', 'YINT2B09w2', 'YINT2B10w2',\n",
    "       'YINT2B11w2', 'YINT2B12w2', 'YINT2B13w2', 'YINT2B14w2', 'YINT2B15w2','YINT2B16w2']"
   ]
  },
  {
   "cell_type": "code",
   "execution_count": null,
   "id": "0120dfce",
   "metadata": {},
   "outputs": [],
   "source": [
    "dis="
   ]
  }
 ],
 "metadata": {
  "kernelspec": {
   "display_name": "Python 3 (ipykernel)",
   "language": "python",
   "name": "python3"
  },
  "language_info": {
   "codemirror_mode": {
    "name": "ipython",
    "version": 3
   },
   "file_extension": ".py",
   "mimetype": "text/x-python",
   "name": "python",
   "nbconvert_exporter": "python",
   "pygments_lexer": "ipython3",
   "version": "3.9.13"
  }
 },
 "nbformat": 4,
 "nbformat_minor": 5
}
